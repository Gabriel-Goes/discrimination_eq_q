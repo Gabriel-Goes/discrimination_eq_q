{
 "cells": [
  {
   "cell_type": "markdown",
   "id": "0f96ee4d-3f8a-4a95-b815-4da29fbf1e8e",
   "metadata": {},
   "source": [
    "# Prediction Mode"
   ]
  },
  {
   "cell_type": "markdown",
   "id": "0bd9e000-a2ee-4e96-a29f-c105ceec4c62",
   "metadata": {},
   "source": [
    "<div class=\"alert alert-block alert-info\">\n",
    "<b>This mode is used if the nature/label of the event is not known in advance. </b>\n",
    "</div>"
   ]
  },
  {
   "cell_type": "markdown",
   "id": "826842f6-e7ce-4d55-86f3-ce97b39b24b2",
   "metadata": {},
   "source": [
    "## Download data"
   ]
  },
  {
   "cell_type": "markdown",
   "id": "c02a24e2-742c-4ac8-b11d-8964284db1c3",
   "metadata": {},
   "source": [
    "Input data should be in **mseed** format and correspond to raw **60 second 3-component seismograms**. "
   ]
  },
  {
   "cell_type": "markdown",
   "id": "a245431a-78d6-4fa1-9550-b52412a04c87",
   "metadata": {},
   "source": [
    "Demo data is available in the \"mseed\" folder. "
   ]
  },
  {
   "cell_type": "markdown",
   "id": "eb0b3464-7061-49a8-8eee-da130ad17bae",
   "metadata": {},
   "source": [
    "To apply the algorithm, we need a folder architecture:\n",
    "* mseed_demo\n",
    "   * 2022004T134407\n",
    "        * FR_CHLF_2022004T134407.mseed\n",
    "        * FR_GARF_2022004T134407.mseed\n",
    "        * FR_GNEF_2022004T134407.mseed\n",
    "        * FR_VERF_2022004T134407.mseed\n",
    "        \n",
    "The name of the mseed file should be formatted as \"{network} _ {station} _ {time_event}.mseed\".\n",
    "\n",
    "A csv file is also required to apply the algorithm. \n",
    "It is composed of a column with folders/events to discriminate. "
   ]
  },
  {
   "cell_type": "code",
   "execution_count": 1,
   "id": "52a15951-99e5-40ab-91df-eba18faee0d6",
   "metadata": {},
   "outputs": [],
   "source": [
    "import pandas as pd"
   ]
  },
  {
   "cell_type": "code",
   "execution_count": 2,
   "id": "0975f1b9-4177-4c7a-af1d-8cfde8699f30",
   "metadata": {},
   "outputs": [
    {
     "data": {
      "text/html": [
       "<div>\n",
       "<style scoped>\n",
       "    .dataframe tbody tr th:only-of-type {\n",
       "        vertical-align: middle;\n",
       "    }\n",
       "\n",
       "    .dataframe tbody tr th {\n",
       "        vertical-align: top;\n",
       "    }\n",
       "\n",
       "    .dataframe thead th {\n",
       "        text-align: right;\n",
       "    }\n",
       "</style>\n",
       "<table border=\"1\" class=\"dataframe\">\n",
       "  <thead>\n",
       "    <tr style=\"text-align: right;\">\n",
       "      <th></th>\n",
       "      <th>time</th>\n",
       "    </tr>\n",
       "  </thead>\n",
       "  <tbody>\n",
       "    <tr>\n",
       "      <th>0</th>\n",
       "      <td>2022004T134407</td>\n",
       "    </tr>\n",
       "    <tr>\n",
       "      <th>1</th>\n",
       "      <td>2022003T041502</td>\n",
       "    </tr>\n",
       "    <tr>\n",
       "      <th>2</th>\n",
       "      <td>2022001T213524</td>\n",
       "    </tr>\n",
       "    <tr>\n",
       "      <th>3</th>\n",
       "      <td>2022004T111745</td>\n",
       "    </tr>\n",
       "    <tr>\n",
       "      <th>4</th>\n",
       "      <td>2022004T111040</td>\n",
       "    </tr>\n",
       "  </tbody>\n",
       "</table>\n",
       "</div>"
      ],
      "text/plain": [
       "             time\n",
       "0  2022004T134407\n",
       "1  2022003T041502\n",
       "2  2022001T213524\n",
       "3  2022004T111745\n",
       "4  2022004T111040"
      ]
     },
     "execution_count": 2,
     "metadata": {},
     "output_type": "execute_result"
    }
   ],
   "source": [
    "pred_net_csv = pd.read_csv(\"../demo_pred.csv\")\n",
    "pred_net_csv = pd.DataFrame(pred_net_csv)\n",
    "pred_net_csv.head()"
   ]
  },
  {
   "cell_type": "markdown",
   "id": "631cae95-a1bc-46f8-8596-b11f0a6ee1b9",
   "metadata": {},
   "source": [
    "## Run prediction"
   ]
  },
  {
   "cell_type": "markdown",
   "id": "263b8345-4e16-47a6-b60f-8cba04e9cb69",
   "metadata": {},
   "source": [
    "### From a terminal:"
   ]
  },
  {
   "cell_type": "markdown",
   "id": "36d73373-310d-4557-ba3b-3cc62544c703",
   "metadata": {},
   "source": [
    "```\n",
    " python run.py --data_dir ./mseed_demo --spectro_dir ./spectro_demo --output_dir ./output_demo --csv_dir demo_pred.csv\n",
    "```"
   ]
  },
  {
   "cell_type": "markdown",
   "id": "f928f030-d567-4cd3-98bc-aba6d0c922ec",
   "metadata": {},
   "source": [
    "### From a notebook: "
   ]
  },
  {
   "cell_type": "code",
   "execution_count": 3,
   "id": "93f08547-af04-429d-9dd4-220fd3669d30",
   "metadata": {},
   "outputs": [],
   "source": [
    "import sys\n",
    "sys.path.append('../')\n",
    "\n",
    "import numpy as np \n",
    "\n",
    "from data_process import spectro_extract\n",
    "from prediction import discrim"
   ]
  },
  {
   "cell_type": "code",
   "execution_count": 4,
   "id": "1228c624-48f4-401d-9d0f-e76397188218",
   "metadata": {},
   "outputs": [
    {
     "name": "stdout",
     "output_type": "stream",
     "text": [
      "Number of events: 9\n",
      "*****************\n",
      "EVENT 1 / 9\n",
      "Number of streams: 11\n",
      "*****************\n",
      "EVENT 2 / 9\n",
      "Number of streams: 10\n",
      "*****************\n",
      "EVENT 3 / 9\n",
      "Number of streams: 10\n",
      "*****************\n",
      "EVENT 4 / 9\n",
      "Number of streams: 4\n",
      "*****************\n",
      "EVENT 5 / 9\n",
      "Number of streams: 14\n",
      "*****************\n",
      "EVENT 6 / 9\n",
      "Number of streams: 6\n",
      "*****************\n",
      "EVENT 7 / 9\n",
      "Number of streams: 7\n",
      "*****************\n",
      "EVENT 8 / 9\n",
      "Number of streams: 8\n",
      "*****************\n",
      "EVENT 9 / 9\n",
      "Number of streams: 8\n",
      "Stream 8 / 8\r"
     ]
    }
   ],
   "source": [
    "events = np.genfromtxt(f'./../demo_pred.csv', delimiter=',', skip_header = 1, dtype=str)\n",
    "data = spectro_extract(data_dir=\"./../mseed_demo\", spectro_dir=\"./../spectro_demo\", events_list=events)"
   ]
  },
  {
   "cell_type": "code",
   "execution_count": 5,
   "id": "26d663ad-ab6b-4c21-8c04-93f147e48256",
   "metadata": {},
   "outputs": [
    {
     "name": "stderr",
     "output_type": "stream",
     "text": [
      "2022-09-21 11:38:16.074140: I tensorflow/core/platform/cpu_feature_guard.cc:142] This TensorFlow binary is optimized with oneAPI Deep Neural Network Library (oneDNN) to use the following CPU instructions in performance-critical operations:  SSE4.1 SSE4.2 AVX AVX2 FMA\n",
      "To enable them in other operations, rebuild TensorFlow with the appropriate compiler flags.\n"
     ]
    },
    {
     "name": "stdout",
     "output_type": "stream",
     "text": [
      "Number of events: 10\n",
      "*****************\n",
      "EVENT 1 / 9\n",
      "Number of station: 11\n",
      "Station 3 / 11\r"
     ]
    },
    {
     "name": "stderr",
     "output_type": "stream",
     "text": [
      "2022-09-21 11:38:16.381013: I tensorflow/compiler/mlir/mlir_graph_optimization_pass.cc:116] None of the MLIR optimization passes are enabled (registered 2)\n"
     ]
    },
    {
     "name": "stdout",
     "output_type": "stream",
     "text": [
      "*****************\n",
      "EVENT 2 / 9\n",
      "Number of station: 10\n",
      "*****************\n",
      "EVENT 3 / 9\n",
      "Number of station: 10\n",
      "*****************\n",
      "EVENT 4 / 9\n",
      "Number of station: 4\n",
      "*****************\n",
      "EVENT 5 / 9\n",
      "Number of station: 15\n",
      "*****************\n",
      "EVENT 6 / 9\n",
      "Number of station: 12\n",
      "*****************\n",
      "EVENT 7 / 9\n",
      "Number of station: 7\n",
      "*****************\n",
      "EVENT 8 / 9\n",
      "Number of station: 8\n",
      "*****************\n",
      "EVENT 9 / 9\n",
      "Number of station: 16\n",
      "Station 16 / 16\r"
     ]
    }
   ],
   "source": [
    "discrim(model_dir=\"./../model/model_2021354T1554.h5\", spectro_dir='./../spectro_demo', output_dir=\"./../output_demo\", event_label=events, valid = False)"
   ]
  },
  {
   "cell_type": "markdown",
   "id": "a059bc71-912e-4b2b-ab4a-0f7bf5c56b5c",
   "metadata": {},
   "source": [
    "## Read csv file "
   ]
  },
  {
   "cell_type": "code",
   "execution_count": 6,
   "id": "29e9f0ed-331c-41be-bad4-b9539a132baa",
   "metadata": {},
   "outputs": [],
   "source": [
    "import pandas as pd"
   ]
  },
  {
   "cell_type": "code",
   "execution_count": 7,
   "id": "e9c9f987-e2c7-4273-ad37-67aa2dab0d7b",
   "metadata": {},
   "outputs": [
    {
     "data": {
      "text/html": [
       "<div>\n",
       "<style scoped>\n",
       "    .dataframe tbody tr th:only-of-type {\n",
       "        vertical-align: middle;\n",
       "    }\n",
       "\n",
       "    .dataframe tbody tr th {\n",
       "        vertical-align: top;\n",
       "    }\n",
       "\n",
       "    .dataframe thead th {\n",
       "        text-align: right;\n",
       "    }\n",
       "</style>\n",
       "<table border=\"1\" class=\"dataframe\">\n",
       "  <thead>\n",
       "    <tr style=\"text-align: right;\">\n",
       "      <th></th>\n",
       "      <th>event</th>\n",
       "      <th>prob_nat</th>\n",
       "      <th>prob_ant</th>\n",
       "      <th>pred</th>\n",
       "      <th>nature</th>\n",
       "    </tr>\n",
       "  </thead>\n",
       "  <tbody>\n",
       "    <tr>\n",
       "      <th>0</th>\n",
       "      <td>2022004T134407</td>\n",
       "      <td>0.770</td>\n",
       "      <td>0.230</td>\n",
       "      <td>0</td>\n",
       "      <td>Natural</td>\n",
       "    </tr>\n",
       "    <tr>\n",
       "      <th>1</th>\n",
       "      <td>2022003T041502</td>\n",
       "      <td>0.988</td>\n",
       "      <td>0.012</td>\n",
       "      <td>0</td>\n",
       "      <td>Natural</td>\n",
       "    </tr>\n",
       "    <tr>\n",
       "      <th>2</th>\n",
       "      <td>2022001T213524</td>\n",
       "      <td>0.961</td>\n",
       "      <td>0.039</td>\n",
       "      <td>0</td>\n",
       "      <td>Natural</td>\n",
       "    </tr>\n",
       "    <tr>\n",
       "      <th>3</th>\n",
       "      <td>2022004T111745</td>\n",
       "      <td>0.005</td>\n",
       "      <td>0.995</td>\n",
       "      <td>1</td>\n",
       "      <td>Anthropogenic</td>\n",
       "    </tr>\n",
       "    <tr>\n",
       "      <th>4</th>\n",
       "      <td>2022004T111040</td>\n",
       "      <td>0.006</td>\n",
       "      <td>0.994</td>\n",
       "      <td>1</td>\n",
       "      <td>Anthropogenic</td>\n",
       "    </tr>\n",
       "  </tbody>\n",
       "</table>\n",
       "</div>"
      ],
      "text/plain": [
       "            event  prob_nat  prob_ant  pred         nature\n",
       "0  2022004T134407     0.770     0.230     0        Natural\n",
       "1  2022003T041502     0.988     0.012     0        Natural\n",
       "2  2022001T213524     0.961     0.039     0        Natural\n",
       "3  2022004T111745     0.005     0.995     1  Anthropogenic\n",
       "4  2022004T111040     0.006     0.994     1  Anthropogenic"
      ]
     },
     "execution_count": 7,
     "metadata": {},
     "output_type": "execute_result"
    }
   ],
   "source": [
    "pred_net_csv = pd.read_csv(\"../output_demo/prediction_network_level.csv\")\n",
    "pred_net_csv = pd.DataFrame(pred_net_csv)\n",
    "pred_net_csv.head()"
   ]
  },
  {
   "cell_type": "code",
   "execution_count": 8,
   "id": "b2943f25-c309-488c-8e45-2ef919e6da57",
   "metadata": {},
   "outputs": [
    {
     "data": {
      "text/html": [
       "<div>\n",
       "<style scoped>\n",
       "    .dataframe tbody tr th:only-of-type {\n",
       "        vertical-align: middle;\n",
       "    }\n",
       "\n",
       "    .dataframe tbody tr th {\n",
       "        vertical-align: top;\n",
       "    }\n",
       "\n",
       "    .dataframe thead th {\n",
       "        text-align: right;\n",
       "    }\n",
       "</style>\n",
       "<table border=\"1\" class=\"dataframe\">\n",
       "  <thead>\n",
       "    <tr style=\"text-align: right;\">\n",
       "      <th></th>\n",
       "      <th>file_name</th>\n",
       "      <th>station</th>\n",
       "      <th>prob_nat</th>\n",
       "      <th>prob_ant</th>\n",
       "      <th>pred</th>\n",
       "      <th>nature</th>\n",
       "    </tr>\n",
       "  </thead>\n",
       "  <tbody>\n",
       "    <tr>\n",
       "      <th>0</th>\n",
       "      <td>FR_ABJF_2022004T134407</td>\n",
       "      <td>ABJF</td>\n",
       "      <td>0.044</td>\n",
       "      <td>0.956</td>\n",
       "      <td>1</td>\n",
       "      <td>Anthropogenic</td>\n",
       "    </tr>\n",
       "    <tr>\n",
       "      <th>1</th>\n",
       "      <td>FR_CHLF_2022004T134407</td>\n",
       "      <td>CHLF</td>\n",
       "      <td>0.962</td>\n",
       "      <td>0.038</td>\n",
       "      <td>0</td>\n",
       "      <td>Natural</td>\n",
       "    </tr>\n",
       "    <tr>\n",
       "      <th>2</th>\n",
       "      <td>FR_LBL_2022004T134407</td>\n",
       "      <td>LBL</td>\n",
       "      <td>0.216</td>\n",
       "      <td>0.784</td>\n",
       "      <td>1</td>\n",
       "      <td>Anthropogenic</td>\n",
       "    </tr>\n",
       "    <tr>\n",
       "      <th>3</th>\n",
       "      <td>FR_GARF_2022004T134407</td>\n",
       "      <td>GARF</td>\n",
       "      <td>0.982</td>\n",
       "      <td>0.018</td>\n",
       "      <td>0</td>\n",
       "      <td>Natural</td>\n",
       "    </tr>\n",
       "    <tr>\n",
       "      <th>4</th>\n",
       "      <td>FR_GNEF_2022004T134407</td>\n",
       "      <td>GNEF</td>\n",
       "      <td>0.914</td>\n",
       "      <td>0.086</td>\n",
       "      <td>0</td>\n",
       "      <td>Natural</td>\n",
       "    </tr>\n",
       "  </tbody>\n",
       "</table>\n",
       "</div>"
      ],
      "text/plain": [
       "                file_name station  prob_nat  prob_ant  pred         nature\n",
       "0  FR_ABJF_2022004T134407    ABJF     0.044     0.956     1  Anthropogenic\n",
       "1  FR_CHLF_2022004T134407    CHLF     0.962     0.038     0        Natural\n",
       "2   FR_LBL_2022004T134407     LBL     0.216     0.784     1  Anthropogenic\n",
       "3  FR_GARF_2022004T134407    GARF     0.982     0.018     0        Natural\n",
       "4  FR_GNEF_2022004T134407    GNEF     0.914     0.086     0        Natural"
      ]
     },
     "execution_count": 8,
     "metadata": {},
     "output_type": "execute_result"
    }
   ],
   "source": [
    "pred_sta_csv = pd.read_csv(\"../output_demo/prediction_station_level.csv\")\n",
    "pred_sta_csv = pd.DataFrame(pred_sta_csv)\n",
    "pred_sta_csv.head()"
   ]
  }
 ],
 "metadata": {
  "kernelspec": {
   "display_name": "Python 3.10.6 64-bit",
   "language": "python",
   "name": "python3"
  },
  "language_info": {
   "codemirror_mode": {
    "name": "ipython",
    "version": 3
   },
   "file_extension": ".py",
   "mimetype": "text/x-python",
   "name": "python",
   "nbconvert_exporter": "python",
   "pygments_lexer": "ipython3",
   "version": "3.10.6"
  },
  "vscode": {
   "interpreter": {
    "hash": "aee8b7b246df8f9039afb4144a1f6fd8d2ca17a180786b69acc140d282b71a49"
   }
  }
 },
 "nbformat": 4,
 "nbformat_minor": 5
}
