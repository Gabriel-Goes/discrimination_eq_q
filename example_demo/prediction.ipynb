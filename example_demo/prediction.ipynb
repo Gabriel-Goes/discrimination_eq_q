{
 "cells": [
  {
   "cell_type": "markdown",
   "id": "0f96ee4d-3f8a-4a95-b815-4da29fbf1e8e",
   "metadata": {},
   "source": [
    "# Prediction Mode"
   ]
  },
  {
   "cell_type": "markdown",
   "id": "826842f6-e7ce-4d55-86f3-ce97b39b24b2",
   "metadata": {},
   "source": [
    "## Download data"
   ]
  },
  {
   "cell_type": "markdown",
   "id": "c02a24e2-742c-4ac8-b11d-8964284db1c3",
   "metadata": {},
   "source": [
    "Input data should be in mseed format and correspond to raw 60 second 3-component seismograms. \n"
   ]
  },
  {
   "cell_type": "markdown",
   "id": "a245431a-78d6-4fa1-9550-b52412a04c87",
   "metadata": {},
   "source": [
    "Demo data is available in the \"mseed\" folder. "
   ]
  },
  {
   "cell_type": "markdown",
   "id": "eb0b3464-7061-49a8-8eee-da130ad17bae",
   "metadata": {},
   "source": [
    "To apply the algorithm, we need a folder architecture:\n",
    "* mseed_demo\n",
    "   * 2022004T134407\n",
    "        * FR_CHLF_2022004T134407.mseed\n",
    "        * FR_GARF_2022004T134407.mseed\n",
    "        * FR_GNEF_2022004T134407.mseed\n",
    "        * FR_VERF_2022004T134407.mseed"
   ]
  },
  {
   "cell_type": "markdown",
   "id": "631cae95-a1bc-46f8-8596-b11f0a6ee1b9",
   "metadata": {},
   "source": [
    "## Run prediction"
   ]
  },
  {
   "cell_type": "markdown",
   "id": "263b8345-4e16-47a6-b60f-8cba04e9cb69",
   "metadata": {},
   "source": [
    "### From a terminal:"
   ]
  },
  {
   "cell_type": "markdown",
   "id": "36d73373-310d-4557-ba3b-3cc62544c703",
   "metadata": {},
   "source": [
    "```\n",
    " python run.py --mode pred --data_dir ./mseed_demo --output_dir ./output_demo\n",
    "```"
   ]
  },
  {
   "cell_type": "markdown",
   "id": "f928f030-d567-4cd3-98bc-aba6d0c922ec",
   "metadata": {},
   "source": [
    "### From a notebook: "
   ]
  },
  {
   "cell_type": "code",
   "execution_count": 8,
   "id": "93f08547-af04-429d-9dd4-220fd3669d30",
   "metadata": {},
   "outputs": [],
   "source": [
    "import sys\n",
    "sys.path.append('../')\n",
    "from data_process import spectro_extract_pred"
   ]
  },
  {
   "cell_type": "code",
   "execution_count": 11,
   "id": "1228c624-48f4-401d-9d0f-e76397188218",
   "metadata": {},
   "outputs": [
    {
     "name": "stdout",
     "output_type": "stream",
     "text": [
      "Number of events : 9\n",
      "*****************\n",
      "EVENT 1 / 9\n",
      "mseed_demo\n",
      "Number of stream : 0\n",
      "*****************\n",
      "EVENT 2 / 9\n",
      "mseed_demo\n",
      "Number of stream : 0\n",
      "*****************\n",
      "EVENT 3 / 9\n",
      "mseed_demo\n",
      "Number of stream : 0\n",
      "*****************\n",
      "EVENT 4 / 9\n",
      "mseed_demo\n",
      "Number of stream : 0\n",
      "*****************\n",
      "EVENT 5 / 9\n",
      "mseed_demo\n",
      "Number of stream : 0\n",
      "*****************\n",
      "EVENT 6 / 9\n",
      "mseed_demo\n",
      "Number of stream : 0\n",
      "*****************\n",
      "EVENT 7 / 9\n",
      "mseed_demo\n",
      "Number of stream : 0\n",
      "*****************\n",
      "EVENT 8 / 9\n",
      "mseed_demo\n",
      "Number of stream : 0\n",
      "*****************\n",
      "EVENT 9 / 9\n",
      "mseed_demo\n",
      "Number of stream : 0\n"
     ]
    }
   ],
   "source": [
    "data = spectro_extract_pred(data_dir=\"./../mseed_demo\")"
   ]
  },
  {
   "cell_type": "code",
   "execution_count": null,
   "id": "26d663ad-ab6b-4c21-8c04-93f147e48256",
   "metadata": {},
   "outputs": [],
   "source": []
  }
 ],
 "metadata": {
  "kernelspec": {
   "display_name": "Python 3 (ipykernel)",
   "language": "python",
   "name": "python3"
  },
  "language_info": {
   "codemirror_mode": {
    "name": "ipython",
    "version": 3
   },
   "file_extension": ".py",
   "mimetype": "text/x-python",
   "name": "python",
   "nbconvert_exporter": "python",
   "pygments_lexer": "ipython3",
   "version": "3.8.12"
  }
 },
 "nbformat": 4,
 "nbformat_minor": 5
}
