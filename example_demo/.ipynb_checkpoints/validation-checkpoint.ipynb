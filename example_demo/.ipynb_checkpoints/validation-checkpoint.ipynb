{
 "cells": [
  {
   "cell_type": "markdown",
   "id": "0f96ee4d-3f8a-4a95-b815-4da29fbf1e8e",
   "metadata": {},
   "source": [
    "# Validation Mode"
   ]
  },
  {
   "cell_type": "markdown",
   "id": "0bd9e000-a2ee-4e96-a29f-c105ceec4c62",
   "metadata": {},
   "source": [
    "<div class=\"alert alert-block alert-info\">\n",
    "<b>This mode is used if the nature/label of the event is known in advance. </b>\n",
    "</div>"
   ]
  },
  {
   "cell_type": "markdown",
   "id": "826842f6-e7ce-4d55-86f3-ce97b39b24b2",
   "metadata": {},
   "source": [
    "## Download data"
   ]
  },
  {
   "cell_type": "markdown",
   "id": "c02a24e2-742c-4ac8-b11d-8964284db1c3",
   "metadata": {},
   "source": [
    "Input data should be in **mseed** format and correspond to raw **60 second 3-component seismograms**. "
   ]
  },
  {
   "cell_type": "markdown",
   "id": "a245431a-78d6-4fa1-9550-b52412a04c87",
   "metadata": {},
   "source": [
    "Demo data is available in the \"mseed\" folder. "
   ]
  },
  {
   "cell_type": "markdown",
   "id": "eb0b3464-7061-49a8-8eee-da130ad17bae",
   "metadata": {},
   "source": [
    "To apply the algorithm, we need a folder architecture:\n",
    "* mseed_demo\n",
    "   * 2022004T134407\n",
    "        * FR_CHLF_2022004T134407.mseed\n",
    "        * FR_GARF_2022004T134407.mseed\n",
    "        * FR_GNEF_2022004T134407.mseed\n",
    "        * FR_VERF_2022004T134407.mseed"
   ]
  },
  {
   "cell_type": "markdown",
   "id": "b61cddaf-cf4d-4d46-afc6-85e99d5c7514",
   "metadata": {},
   "source": [
    "To apply this mode, a **csv file** import pandas as pd is also required with the associated label for each event. "
   ]
  },
  {
   "cell_type": "code",
   "execution_count": null,
   "id": "9bcac75b-0166-4346-975b-66b226902bb5",
   "metadata": {},
   "outputs": [],
   "source": [
    "import pandas as pd"
   ]
  },
  {
   "cell_type": "code",
   "execution_count": null,
   "id": "ec2b7b4d-ccb3-4884-97a6-7e7de00010bb",
   "metadata": {},
   "outputs": [],
   "source": [
    "pred_net_csv = pd.read_csv(\"../demo_file.csv\")\n",
    "pred_net_csv = pd.DataFrame(pred_net_csv)\n",
    "pred_net_csv.head()"
   ]
  },
  {
   "cell_type": "markdown",
   "id": "631cae95-a1bc-46f8-8596-b11f0a6ee1b9",
   "metadata": {},
   "source": [
    "## Run validation"
   ]
  },
  {
   "cell_type": "markdown",
   "id": "263b8345-4e16-47a6-b60f-8cba04e9cb69",
   "metadata": {},
   "source": [
    "### From a terminal:"
   ]
  },
  {
   "cell_type": "markdown",
   "id": "36d73373-310d-4557-ba3b-3cc62544c703",
   "metadata": {},
   "source": [
    "```\n",
    " python run.py --mode pred --data_dir ./mseed_demo --spectro_dir ./spectro_demo --output_dir ./output_demo --csv_file ./demo_file.csv\n",
    "```"
   ]
  },
  {
   "cell_type": "markdown",
   "id": "f928f030-d567-4cd3-98bc-aba6d0c922ec",
   "metadata": {},
   "source": [
    "### From a notebook: "
   ]
  },
  {
   "cell_type": "code",
   "execution_count": null,
   "id": "93f08547-af04-429d-9dd4-220fd3669d30",
   "metadata": {},
   "outputs": [],
   "source": [
    "import sys\n",
    "sys.path.append('../')\n",
    "from data_process import spectro_extract_valid\n",
    "from prediction import valid\n",
    "\n",
    "import numpy as np "
   ]
  },
  {
   "cell_type": "code",
   "execution_count": null,
   "id": "8ee5e6f3-68f5-4a5b-8d1b-246ef60c32a7",
   "metadata": {},
   "outputs": [],
   "source": [
    "events = np.genfromtxt(f'./../demo_file.csv', delimiter=',', skip_header = 1, dtype=str)"
   ]
  },
  {
   "cell_type": "code",
   "execution_count": null,
   "id": "1228c624-48f4-401d-9d0f-e76397188218",
   "metadata": {},
   "outputs": [],
   "source": [
    "data = spectro_extract_valid(data_dir=\"./../mseed_demo\", spectro_dir=\"./../spectro_demo\", events_list=events)"
   ]
  },
  {
   "cell_type": "code",
   "execution_count": null,
   "id": "26d663ad-ab6b-4c21-8c04-93f147e48256",
   "metadata": {},
   "outputs": [],
   "source": [
    "valid(model_dir=\"./../model/model_2021354T1554.h5\", spectro_dir='./../spectro_demo', output_dir=\"./../output_demo\", event_label=events)"
   ]
  },
  {
   "cell_type": "markdown",
   "id": "a059bc71-912e-4b2b-ab4a-0f7bf5c56b5c",
   "metadata": {},
   "source": [
    "## Read csv file "
   ]
  },
  {
   "cell_type": "code",
   "execution_count": null,
   "id": "29e9f0ed-331c-41be-bad4-b9539a132baa",
   "metadata": {},
   "outputs": [],
   "source": [
    "import pandas as pd"
   ]
  },
  {
   "cell_type": "code",
   "execution_count": null,
   "id": "e9c9f987-e2c7-4273-ad37-67aa2dab0d7b",
   "metadata": {},
   "outputs": [],
   "source": [
    "pred_net_csv = pd.read_csv(\"../output_demo/validation_network_level.csv\")\n",
    "pred_net_csv = pd.DataFrame(pred_net_csv)\n",
    "pred_net_csv.head()"
   ]
  },
  {
   "cell_type": "code",
   "execution_count": null,
   "id": "b2943f25-c309-488c-8e45-2ef919e6da57",
   "metadata": {},
   "outputs": [],
   "source": [
    "pred_sta_csv = pd.read_csv(\"../output_demo/validation_station_level.csv\")\n",
    "pred_sta_csv = pd.DataFrame(pred_sta_csv)\n",
    "pred_sta_csv.head()"
   ]
  }
 ],
 "metadata": {
  "kernelspec": {
   "display_name": "Python 3 (ipykernel)",
   "language": "python",
   "name": "python3"
  },
  "language_info": {
   "codemirror_mode": {
    "name": "ipython",
    "version": 3
   },
   "file_extension": ".py",
   "mimetype": "text/x-python",
   "name": "python",
   "nbconvert_exporter": "python",
   "pygments_lexer": "ipython3",
   "version": "3.8.12"
  }
 },
 "nbformat": 4,
 "nbformat_minor": 5
}
